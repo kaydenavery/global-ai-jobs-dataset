{
 "cells": [
  {
   "cell_type": "markdown",
   "id": "41a9a37e",
   "metadata": {},
   "source": [
    "In this notebook, I will explore the ai_job_dataset.csv dataset from Kaggle using exploratory data analysis to understand more about the AI global job market.\n",
    "\n",
    "In the following code cell I will begin by importing some packages I think will be useful and also load in the dataset into a pandas dataframe."
   ]
  },
  {
   "cell_type": "code",
   "execution_count": null,
   "id": "123070b3",
   "metadata": {
    "vscode": {
     "languageId": "plaintext"
    }
   },
   "outputs": [],
   "source": [
    "import "
   ]
  }
 ],
 "metadata": {
  "language_info": {
   "name": "python"
  }
 },
 "nbformat": 4,
 "nbformat_minor": 5
}
