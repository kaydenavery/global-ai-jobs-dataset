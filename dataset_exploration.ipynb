{
 "cells": [
  {
   "cell_type": "markdown",
   "id": "41a9a37e",
   "metadata": {},
   "source": [
    "In this notebook, I will explore the ai_job_dataset.csv dataset from Kaggle using exploratory data analysis to understand more about the AI global job market.\n",
    "\n",
    "In the following code cell I will begin by importing some packages I think will be useful and also load in the dataset into a pandas dataframe."
   ]
  },
  {
   "cell_type": "code",
   "execution_count": 4,
   "id": "123070b3",
   "metadata": {},
   "outputs": [
    {
     "name": "stdout",
     "output_type": "stream",
     "text": [
      "    job_id              job_title  salary_usd salary_currency  \\\n",
      "0  AI00001  AI Research Scientist       90376             USD   \n",
      "1  AI00002   AI Software Engineer       61895             USD   \n",
      "2  AI00003          AI Specialist      152626             USD   \n",
      "3  AI00004           NLP Engineer       80215             USD   \n",
      "4  AI00005          AI Consultant       54624             EUR   \n",
      "\n",
      "  experience_level employment_type company_location company_size  \\\n",
      "0               SE              CT            China            M   \n",
      "1               EN              CT           Canada            M   \n",
      "2               MI              FL      Switzerland            L   \n",
      "3               SE              FL            India            M   \n",
      "4               EN              PT           France            S   \n",
      "\n",
      "  employee_residence  remote_ratio  \\\n",
      "0              China            50   \n",
      "1            Ireland           100   \n",
      "2        South Korea             0   \n",
      "3              India            50   \n",
      "4          Singapore           100   \n",
      "\n",
      "                                   required_skills education_required  \\\n",
      "0         Tableau, PyTorch, Kubernetes, Linux, NLP           Bachelor   \n",
      "1  Deep Learning, AWS, Mathematics, Python, Docker             Master   \n",
      "2     Kubernetes, Deep Learning, Java, Hadoop, NLP          Associate   \n",
      "3                        Scala, SQL, Linux, Python                PhD   \n",
      "4                     MLOps, Java, Tableau, Python             Master   \n",
      "\n",
      "   years_experience    industry posting_date application_deadline  \\\n",
      "0                 9  Automotive   2024-10-18           2024-11-07   \n",
      "1                 1       Media   2024-11-20           2025-01-11   \n",
      "2                 2   Education   2025-03-18           2025-04-07   \n",
      "3                 7  Consulting   2024-12-23           2025-02-24   \n",
      "4                 0       Media   2025-04-15           2025-06-23   \n",
      "\n",
      "   job_description_length  benefits_score       company_name  \n",
      "0                    1076             5.9    Smart Analytics  \n",
      "1                    1268             5.2       TechCorp Inc  \n",
      "2                    1974             9.4    Autonomous Tech  \n",
      "3                    1345             8.6     Future Systems  \n",
      "4                    1989             6.6  Advanced Robotics  \n"
     ]
    }
   ],
   "source": [
    "import numpy as np\n",
    "import pandas as pd\n",
    "\n",
    "# Use the raw GitHub URL to load the CSV correctly\n",
    "ai_job_df = pd.read_csv('https://raw.githubusercontent.com/kaydenavery/global-ai-jobs-dataset/main/ai_job_dataset.csv')\n",
    "\n",
    "print(ai_job_df.head())"
   ]
  },
  {
   "cell_type": "markdown",
   "id": "5b87c103",
   "metadata": {},
   "source": [
    "We can a preview of the dataset and understand the columns included. I will now apply some summary statistics to get a feel for the information contained within each column"
   ]
  },
  {
   "cell_type": "code",
   "execution_count": null,
   "id": "33cd0a97",
   "metadata": {},
   "outputs": [],
   "source": []
  }
 ],
 "metadata": {
  "kernelspec": {
   "display_name": "base",
   "language": "python",
   "name": "python3"
  },
  "language_info": {
   "codemirror_mode": {
    "name": "ipython",
    "version": 3
   },
   "file_extension": ".py",
   "mimetype": "text/x-python",
   "name": "python",
   "nbconvert_exporter": "python",
   "pygments_lexer": "ipython3",
   "version": "3.13.5"
  }
 },
 "nbformat": 4,
 "nbformat_minor": 5
}
